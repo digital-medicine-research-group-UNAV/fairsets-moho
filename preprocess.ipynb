{
 "cells": [
  {
   "cell_type": "code",
   "execution_count": 2,
   "metadata": {},
   "outputs": [],
   "source": [
    "import os\n",
    "import numpy as np\n",
    "import pandas as pd\n",
    "\n",
    "from sklearn.preprocessing import LabelEncoder\n"
   ]
  },
  {
   "cell_type": "markdown",
   "metadata": {},
   "source": [
    "### Adult reconstructed with Numerical Encoding"
   ]
  },
  {
   "cell_type": "code",
   "execution_count": null,
   "metadata": {},
   "outputs": [],
   "source": [
    "adult = pd.read_csv(\"./data/raw/adultrec.csv\")\n",
    "\n",
    "# Recode income label\n",
    "adult[\"income\"] = pd.cut(adult[\"income\"], bins=[0, 20000, 50000, np.inf], labels=[0, 1, 2])\n",
    "\n",
    "# Drop redundant features\n",
    "to_drop = [\n",
    "    \"education\", # redundant with education-num\n",
    "    \"relationship\", # redundant with marital-status and gender\n",
    "    \"native-country\" # redundant with race\n",
    "    ]\n",
    "\n",
    "adult = adult.drop(to_drop, axis=1)\n",
    "\n",
    "encoder = LabelEncoder()\n",
    "\n",
    "for column_name in adult.columns:\n",
    "    adult[column_name] = encoder.fit_transform(adult[column_name])\n",
    "\n",
    "adult.to_csv(\"./data/clean/adult_numenc.csv\", index=False)"
   ]
  },
  {
   "cell_type": "markdown",
   "metadata": {},
   "source": [
    "### Diabetes "
   ]
  },
  {
   "cell_type": "code",
   "execution_count": 5,
   "metadata": {},
   "outputs": [],
   "source": [
    "diabetes = pd.read_csv(\"./data/raw/diabetic_preprocessed.csv\")\n",
    "\n",
    "to_drop = [\n",
    "    \"readmit_binary\",\n",
    "    \"readmit_30_days\",\n",
    "]\n",
    "\n",
    "diabetes = diabetes.drop(to_drop, axis=1)\n",
    "\n",
    "diabetes['age'] = diabetes['age'].map({\n",
    "    \"30 years or younger\": 0,\n",
    "    \"30-60 years\": 1,\n",
    "    \"Over 60 years\": 2\n",
    "})\n",
    "\n",
    "encoder = LabelEncoder()\n",
    "\n",
    "for column_name in diabetes.columns:\n",
    "    diabetes[column_name] = encoder.fit_transform(diabetes[column_name])\n",
    "\n",
    "#diabetes.to_csv(\"./data/clean/diabetes.csv\", index=False)"
   ]
  },
  {
   "cell_type": "markdown",
   "metadata": {},
   "source": [
    "### COMPAS"
   ]
  },
  {
   "cell_type": "code",
   "execution_count": 7,
   "metadata": {},
   "outputs": [],
   "source": [
    "compas = pd.read_csv(\"./data/raw/compas.csv\")\n",
    "\n",
    "cols = [\n",
    "    'sex',\n",
    "    'age',\n",
    "    'race',\n",
    "    'juv_fel_count',\n",
    "    'juv_misd_count',\n",
    "    'juv_other_count',\n",
    "    'priors_count',\n",
    "    'c_charge_degree',\n",
    "    #'c_charge_desc',\n",
    "    'decile_score', \n",
    "    'score_text',\n",
    "    'two_year_recid'\n",
    "]\n",
    "\n",
    "compas = compas[cols]\n",
    "\n",
    "compas['score_text'] = compas['score_text'].map({\n",
    "    \"Low\": 0,\n",
    "    \"Medium\": 1,\n",
    "    \"High\": 2\n",
    "})\n",
    "\n",
    "encoder = LabelEncoder()\n",
    "\n",
    "for column_name in compas.columns:\n",
    "    compas[column_name] = encoder.fit_transform(compas[column_name])\n",
    "\n",
    "compas.to_csv(\"./data/clean/compas.csv\", index=False)"
   ]
  }
 ],
 "metadata": {
  "kernelspec": {
   "display_name": "mocp",
   "language": "python",
   "name": "mocp"
  },
  "language_info": {
   "codemirror_mode": {
    "name": "ipython",
    "version": 3
   },
   "file_extension": ".py",
   "mimetype": "text/x-python",
   "name": "python",
   "nbconvert_exporter": "python",
   "pygments_lexer": "ipython3",
   "version": "3.9.2"
  }
 },
 "nbformat": 4,
 "nbformat_minor": 2
}
