{
 "cells": [
  {
   "cell_type": "code",
   "execution_count": 1,
   "metadata": {},
   "outputs": [],
   "source": [
    "import os\n",
    "import sys\n",
    "import random\n",
    "import math\n",
    "\n",
    "import numpy as np\n",
    "import pandas as pd\n",
    "\n",
    "from nsga2.toolbox import *\n"
   ]
  },
  {
   "cell_type": "code",
   "execution_count": 12,
   "metadata": {},
   "outputs": [
    {
     "name": "stderr",
     "output_type": "stream",
     "text": [
      "/home/agarciagali/mocp/mocp_nsga/nsga2/toolbox.py:325: FutureWarning: The behavior of DataFrame concatenation with empty or all-NA entries is deprecated. In a future version, this will no longer exclude empty or all-NA columns when determining the result dtypes. To retain the old behavior, exclude the relevant entries before the concat operation.\n",
      "  avg_pareto = pd.concat([avg_pareto, perc_aux])\n",
      "/home/agarciagali/mocp/mocp_nsga/nsga2/toolbox.py:333: FutureWarning: The behavior of DataFrame concatenation with empty or all-NA entries is deprecated. In a future version, this will no longer exclude empty or all-NA columns when determining the result dtypes. To retain the old behavior, exclude the relevant entries before the concat operation.\n",
      "  avg_pareto = pd.concat([avg_pareto, perc_aux])\n"
     ]
    },
    {
     "data": {
      "text/html": [
       "<div>\n",
       "<style scoped>\n",
       "    .dataframe tbody tr th:only-of-type {\n",
       "        vertical-align: middle;\n",
       "    }\n",
       "\n",
       "    .dataframe tbody tr th {\n",
       "        vertical-align: top;\n",
       "    }\n",
       "\n",
       "    .dataframe thead th {\n",
       "        text-align: right;\n",
       "    }\n",
       "</style>\n",
       "<table border=\"1\" class=\"dataframe\">\n",
       "  <thead>\n",
       "    <tr style=\"text-align: right;\">\n",
       "      <th></th>\n",
       "      <th>set_size_val</th>\n",
       "      <th>unfairness_val</th>\n",
       "      <th>set_size_test</th>\n",
       "      <th>unfairness_test</th>\n",
       "    </tr>\n",
       "  </thead>\n",
       "  <tbody>\n",
       "    <tr>\n",
       "      <th>0</th>\n",
       "      <td>1.562381</td>\n",
       "      <td>3.025838</td>\n",
       "      <td>1.559207</td>\n",
       "      <td>3.252343</td>\n",
       "    </tr>\n",
       "    <tr>\n",
       "      <th>0</th>\n",
       "      <td>1.577005</td>\n",
       "      <td>2.567158</td>\n",
       "      <td>1.574390</td>\n",
       "      <td>2.922708</td>\n",
       "    </tr>\n",
       "    <tr>\n",
       "      <th>0</th>\n",
       "      <td>1.599608</td>\n",
       "      <td>2.227186</td>\n",
       "      <td>1.596495</td>\n",
       "      <td>2.646768</td>\n",
       "    </tr>\n",
       "    <tr>\n",
       "      <th>0</th>\n",
       "      <td>1.627110</td>\n",
       "      <td>1.764777</td>\n",
       "      <td>1.626450</td>\n",
       "      <td>2.109322</td>\n",
       "    </tr>\n",
       "    <tr>\n",
       "      <th>0</th>\n",
       "      <td>1.657915</td>\n",
       "      <td>1.001473</td>\n",
       "      <td>1.657139</td>\n",
       "      <td>1.522707</td>\n",
       "    </tr>\n",
       "    <tr>\n",
       "      <th>0</th>\n",
       "      <td>1.578146</td>\n",
       "      <td>2.363484</td>\n",
       "      <td>1.576442</td>\n",
       "      <td>2.559455</td>\n",
       "    </tr>\n",
       "    <tr>\n",
       "      <th>0</th>\n",
       "      <td>1.579866</td>\n",
       "      <td>2.716458</td>\n",
       "      <td>1.578178</td>\n",
       "      <td>3.019628</td>\n",
       "    </tr>\n",
       "  </tbody>\n",
       "</table>\n",
       "</div>"
      ],
      "text/plain": [
       "   set_size_val  unfairness_val  set_size_test  unfairness_test\n",
       "0      1.562381        3.025838       1.559207         3.252343\n",
       "0      1.577005        2.567158       1.574390         2.922708\n",
       "0      1.599608        2.227186       1.596495         2.646768\n",
       "0      1.627110        1.764777       1.626450         2.109322\n",
       "0      1.657915        1.001473       1.657139         1.522707\n",
       "0      1.578146        2.363484       1.576442         2.559455\n",
       "0      1.579866        2.716458       1.578178         3.019628"
      ]
     },
     "execution_count": 12,
     "metadata": {},
     "output_type": "execute_result"
    }
   ],
   "source": [
    "adult_logit_20 = results_from_experiment(\"adult_numenc\", \"avg_priv_dif\", \"logit\", \"bingender\", \"2\")\n",
    "pareto_dist_val = compute_average_pareto(adult_logit_20[0], set=\"val\")\n",
    "pareto_dist_test = compute_average_pareto(adult_logit_20[0], set=\"test\")\n",
    "conformal_results = results_conformal(adult_logit_20[1], adult_logit_20[2])\n",
    "\n",
    "pareto_dist = pd.concat([pareto_dist_val, pareto_dist_test], axis=1)\n",
    "pd.concat([pareto_dist, conformal_results])"
   ]
  },
  {
   "cell_type": "code",
   "execution_count": null,
   "metadata": {},
   "outputs": [],
   "source": [
    "adult_tree_20 = results_from_experiment(\"adult_numenc\", \"avg_priv_dif\", \"tree\", \"bingender\", \"2\")\n",
    "pareto_dist_val = compute_average_pareto(adult_tree_20[0], set=\"val\")\n",
    "pareto_dist_test = compute_average_pareto(adult_tree_20[0], set=\"test\")\n",
    "conformal_results = results_conformal(adult_tree_20[1], adult_tree_20[2])\n",
    "\n",
    "pareto_dist = pd.concat([pareto_dist_val, pareto_dist_test], axis=1)\n",
    "pd.concat([pareto_dist, conformal_results])"
   ]
  },
  {
   "cell_type": "code",
   "execution_count": null,
   "metadata": {},
   "outputs": [],
   "source": [
    "adult_rf_20 = results_from_experiment(\"adult_numenc\", \"avg_priv_dif\", \"rf\", \"bingender\", \"2\")\n",
    "pareto_dist_val = compute_average_pareto(adult_rf_20[0], set=\"val\")\n",
    "pareto_dist_test = compute_average_pareto(adult_rf_20[0], set=\"test\")\n",
    "conformal_results = results_conformal(adult_rf_20[1], adult_rf_20[2])\n",
    "\n",
    "pareto_dist = pd.concat([pareto_dist_val, pareto_dist_test], axis=1)\n",
    "pd.concat([pareto_dist, conformal_results])"
   ]
  },
  {
   "cell_type": "code",
   "execution_count": null,
   "metadata": {},
   "outputs": [],
   "source": [
    "compas_logit_20 = results_from_experiment(\"compas\", \"avg_priv_dif\", \"logit\", \"binrace\", \"2\")\n",
    "pareto_dist_val = compute_average_pareto(compas_logit_20[0], set=\"val\")\n",
    "pareto_dist_test = compute_average_pareto(compas_logit_20[0], set=\"test\")\n",
    "conformal_results = results_conformal(compas_logit_20[1], compas_logit_20[2])\n",
    "\n",
    "pareto_dist = pd.concat([pareto_dist_val, pareto_dist_test], axis=1)\n",
    "pd.concat([pareto_dist, conformal_results])"
   ]
  },
  {
   "cell_type": "code",
   "execution_count": null,
   "metadata": {},
   "outputs": [],
   "source": [
    "compas_tree_20 = results_from_experiment(\"compas\", \"avg_priv_dif\", \"tree\", \"binrace\", \"2\")\n",
    "pareto_dist_val = compute_average_pareto(compas_tree_20[0], set=\"val\")\n",
    "pareto_dist_test = compute_average_pareto(compas_tree_20[0], set=\"test\")\n",
    "conformal_results = results_conformal(compas_tree_20[1], compas_tree_20[2])\n",
    "\n",
    "pareto_dist = pd.concat([pareto_dist_val, pareto_dist_test], axis=1)\n",
    "pd.concat([pareto_dist, conformal_results])"
   ]
  },
  {
   "cell_type": "code",
   "execution_count": null,
   "metadata": {},
   "outputs": [],
   "source": [
    "compas_rf_20 = results_from_experiment(\"compas\", \"avg_priv_dif\", \"rf\", \"binrace\", \"2\")\n",
    "pareto_dist_val = compute_average_pareto(compas_rf_20[0], set=\"val\")\n",
    "pareto_dist_test = compute_average_pareto(compas_rf_20[0], set=\"test\")\n",
    "conformal_results = results_conformal(compas_rf_20[1], compas_rf_20[2])\n",
    "\n",
    "pareto_dist = pd.concat([pareto_dist_val, pareto_dist_test], axis=1)\n",
    "pd.concat([pareto_dist, conformal_results])"
   ]
  },
  {
   "cell_type": "code",
   "execution_count": null,
   "metadata": {},
   "outputs": [],
   "source": [
    "diabetes_logit_20 = results_from_experiment(\"diabetes\", \"avg_priv_dif\", \"logit\", \"multirace\", \"2\")\n",
    "pareto_dist_val = compute_average_pareto(diabetes_logit_20[0], set=\"val\")\n",
    "pareto_dist_test = compute_average_pareto(diabetes_logit_20[0], set=\"test\")\n",
    "conformal_results = results_conformal(diabetes_logit_20[1], diabetes_logit_20[2])\n",
    "\n",
    "pareto_dist = pd.concat([pareto_dist_val, pareto_dist_test], axis=1)\n",
    "pd.concat([pareto_dist, conformal_results])"
   ]
  },
  {
   "cell_type": "code",
   "execution_count": null,
   "metadata": {},
   "outputs": [],
   "source": [
    "diabetes_tree_20 = results_from_experiment(\"diabetes\", \"avg_priv_dif\", \"tree\", \"multirace\", \"2\")\n",
    "pareto_dist_val = compute_average_pareto(diabetes_tree_20[0], set=\"val\")\n",
    "pareto_dist_test = compute_average_pareto(diabetes_tree_20[0], set=\"test\")\n",
    "conformal_results = results_conformal(diabetes_tree_20[1], diabetes_tree_20[2])\n",
    "\n",
    "pareto_dist = pd.concat([pareto_dist_val, pareto_dist_test], axis=1)\n",
    "pd.concat([pareto_dist, conformal_results])"
   ]
  },
  {
   "cell_type": "code",
   "execution_count": null,
   "metadata": {},
   "outputs": [],
   "source": [
    "diabetes_rf_20 = results_from_experiment(\"diabetes\", \"avg_priv_dif\", \"rf\", \"multirace\", \"2\")\n",
    "pareto_dist_val = compute_average_pareto(diabetes_rf_20[0], set=\"val\")\n",
    "pareto_dist_test = compute_average_pareto(diabetes_rf_20[0], set=\"test\")\n",
    "conformal_results = results_conformal(diabetes_rf_20[1], diabetes_rf_20[2])\n",
    "\n",
    "pareto_dist = pd.concat([pareto_dist_val, pareto_dist_test], axis=1)\n",
    "pd.concat([pareto_dist, conformal_results])"
   ]
  }
 ],
 "metadata": {
  "kernelspec": {
   "display_name": "mocp",
   "language": "python",
   "name": "mocp"
  },
  "language_info": {
   "codemirror_mode": {
    "name": "ipython",
    "version": 3
   },
   "file_extension": ".py",
   "mimetype": "text/x-python",
   "name": "python",
   "nbconvert_exporter": "python",
   "pygments_lexer": "ipython3",
   "version": "3.9.2"
  }
 },
 "nbformat": 4,
 "nbformat_minor": 2
}
